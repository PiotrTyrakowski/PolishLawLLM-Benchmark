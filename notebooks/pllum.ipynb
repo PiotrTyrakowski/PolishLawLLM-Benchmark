{
 "cells": [
  {
   "cell_type": "code",
   "execution_count": null,
   "id": "initial_id",
   "metadata": {
    "collapsed": true
   },
   "outputs": [],
   "source": [
    "%cd /kaggle/working\n",
    "!rm -fr PolishLawLLM-Benchmark/"
   ]
  },
  {
   "metadata": {},
   "cell_type": "code",
   "outputs": [],
   "execution_count": null,
   "source": "!git clone -b feat-pllum-integration https://github.com/PiotrTyrakowski/PolishLawLLM-Benchmark.git",
   "id": "ef87d5b6b88bffa2"
  },
  {
   "metadata": {},
   "cell_type": "code",
   "outputs": [],
   "execution_count": null,
   "source": [
    "%cd PolishLawLLM-Benchmark/\n",
    "!pip install -e ."
   ],
   "id": "8b46444168568438"
  },
  {
   "metadata": {},
   "cell_type": "markdown",
   "source": "Before running next cell make sure to upload ```/exams``` folder into ```/content/data``` directory\n",
   "id": "62c7aa51ab2ba921"
  },
  {
   "metadata": {},
   "cell_type": "code",
   "outputs": [],
   "execution_count": null,
   "source": [
    "from pathlib import Path\n",
    "from benchmark_framework.getters.get_llm_model import get_llm_model\n",
    "from benchmark_framework.getters.get_manager import get_manager\n",
    "from benchmark_framework.configs.model_config import ModelConfig\n",
    "\n",
    "model_name = \"CYFRAGOVPL/Llama-PLLuM-8B-chat\"\n",
    "dataset_name = \"exams\"\n",
    "tasks_path = Path(\"/kaggle/input/exams2024/data\")\n",
    "\n",
    "model_config = ModelConfig(quantize=\"4bit\", batch_size=8)\n",
    "model = get_llm_model(model_name, model_config)\n",
    "manager = get_manager(dataset_name, model, tasks_path)"
   ],
   "id": "ff2ad14aa83ec1a7"
  },
  {
   "metadata": {},
   "cell_type": "code",
   "outputs": [],
   "execution_count": null,
   "source": [
    "from benchmark_framework.runner import BenchmarkRunner\n",
    "\n",
    "runner = BenchmarkRunner(manager)\n",
    "result = runner.run()\n",
    "print(result)"
   ],
   "id": "4e01eb5c75709ad5"
  }
 ],
 "metadata": {
  "kernelspec": {
   "display_name": "Python 3",
   "language": "python",
   "name": "python3"
  },
  "language_info": {
   "codemirror_mode": {
    "name": "ipython",
    "version": 2
   },
   "file_extension": ".py",
   "mimetype": "text/x-python",
   "name": "python",
   "nbconvert_exporter": "python",
   "pygments_lexer": "ipython2",
   "version": "2.7.6"
  }
 },
 "nbformat": 4,
 "nbformat_minor": 5
}
