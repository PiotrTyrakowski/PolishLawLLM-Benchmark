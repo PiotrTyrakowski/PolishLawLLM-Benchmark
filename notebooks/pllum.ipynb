{
 "cells": [
  {
   "cell_type": "code",
   "execution_count": null,
   "id": "initial_id",
   "metadata": {
    "collapsed": true
   },
   "outputs": [],
   "source": [
    "%cd /kaggle/working\n",
    "!rm -fr PolishLawLLM-Benchmark/"
   ]
  },
  {
   "metadata": {},
   "cell_type": "code",
   "outputs": [],
   "execution_count": null,
   "source": "!git clone -b feat-pllum-integration https://github.com/PiotrTyrakowski/PolishLawLLM-Benchmark.git",
   "id": "ef87d5b6b88bffa2"
  },
  {
   "metadata": {},
   "cell_type": "code",
   "outputs": [],
   "execution_count": null,
   "source": [
    "%cd PolishLawLLM-Benchmark/\n",
    "!pip install -e ."
   ],
   "id": "8b46444168568438"
  },
  {
   "metadata": {},
   "cell_type": "markdown",
   "source": "Before running next cell make sure to upload ```/exams``` folder into ```/content/data``` directory\n",
   "id": "62c7aa51ab2ba921"
  },
  {
   "metadata": {},
   "cell_type": "code",
   "outputs": [],
   "execution_count": null,
   "source": [
    "from pathlib import Path\n",
    "from benchmark_framework.getters.get_model import get_model_by_name\n",
    "from benchmark_framework.getters.get_manager import get_manager_by_dataset\n",
    "from benchmark_framework.configs.model_config import ModelConfig\n",
    "\n",
    "model_name = \"CYFRAGOVPL/Llama-PLLuM-8B-chat\"\n",
    "dataset_name = \"exams\"\n",
    "tasks_path = Path(\"/kaggle/input/exams2024/data\")\n",
    "\n",
    "model_config = ModelConfig(quantize=\"4bit\", pipe_batch_size=8)\n",
    "manager = get_manager_by_dataset(dataset_name, model_name, tasks_path)\n",
    "model = get_model_by_name(model_name, model_config)"
   ],
   "id": "d282517ed44d44"
  },
  {
   "metadata": {},
   "cell_type": "code",
   "outputs": [],
   "execution_count": null,
   "source": [
    "from benchmark_framework.runner import BenchmarkRunner\n",
    "\n",
    "runner = BenchmarkRunner(model, manager)\n",
    "result = runner.run()\n",
    "print(result)"
   ],
   "id": "c812ee2212af8743"
  }
 ],
 "metadata": {
  "kernelspec": {
   "display_name": "Python 3",
   "language": "python",
   "name": "python3"
  },
  "language_info": {
   "codemirror_mode": {
    "name": "ipython",
    "version": 2
   },
   "file_extension": ".py",
   "mimetype": "text/x-python",
   "name": "python",
   "nbconvert_exporter": "python",
   "pygments_lexer": "ipython2",
   "version": "2.7.6"
  }
 },
 "nbformat": 4,
 "nbformat_minor": 5
}
