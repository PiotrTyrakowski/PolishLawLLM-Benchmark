{
 "cells": [
  {
   "metadata": {},
   "cell_type": "markdown",
   "source": "[![Open In Colab](https://colab.research.google.com/assets/colab-badge.svg)](https://colab.research.google.com/github/PiotrTyrakowski/PolishLawLLM-Benchmark/blob/KwiatkowskiML/bielik-notebook/notebooks/bielik.ipynb)",
   "id": "714b79ce940b4b89"
  },
  {
   "metadata": {},
   "cell_type": "code",
   "outputs": [],
   "execution_count": null,
   "source": "rm -fr PolishLawLLM-Benchmark/",
   "id": "8cb477b172efca9b"
  },
  {
   "metadata": {},
   "cell_type": "code",
   "outputs": [],
   "execution_count": null,
   "source": "!git clone -b KwiatkowskiML/bielik-notebook https://github.com/PiotrTyrakowski/PolishLawLLM-Benchmark.git",
   "id": "39ac606916c263f7"
  },
  {
   "metadata": {},
   "cell_type": "code",
   "outputs": [],
   "execution_count": null,
   "source": [
    "%cd PolishLawLLM-Benchmark/\n",
    "!pip install -e ."
   ],
   "id": "fc6f16318e29903d"
  },
  {
   "metadata": {},
   "cell_type": "code",
   "outputs": [],
   "execution_count": null,
   "source": [
    "from google.colab import userdata\n",
    "from huggingface_hub import login\n",
    "\n",
    "login(token=userdata.get('HF_TOKEN'))"
   ],
   "id": "5a2ff80e1cb6b1f5"
  },
  {
   "metadata": {},
   "cell_type": "code",
   "source": [
    "from benchmark_framework.getters.get_model import get_model_by_name\n",
    "from benchmark_framework.getters.get_manager import get_manager_by_dataset\n",
    "from benchmark_framework.runner import BenchmarkRunner\n",
    "\n",
    "model_name = \"speakleash/Bielik-4.5B-v3.0-Instruct\"\n",
    "dataset_name = \"exams\"\n",
    "\n",
    "model = get_model_by_name(model_name)\n",
    "manager = get_manager_by_dataset(dataset_name, model_name)\n",
    "runner = BenchmarkRunner(model, manager)"
   ],
   "id": "f4a0eb7d536025f",
   "outputs": [],
   "execution_count": null
  },
  {
   "metadata": {},
   "cell_type": "code",
   "outputs": [],
   "execution_count": null,
   "source": [
    "result = runner.run()\n",
    "print(result)"
   ],
   "id": "9a91df8becbd4701"
  }
 ],
 "metadata": {
  "kernelspec": {
   "display_name": "Python 3",
   "language": "python",
   "name": "python3"
  },
  "language_info": {
   "codemirror_mode": {
    "name": "ipython",
    "version": 2
   },
   "file_extension": ".py",
   "mimetype": "text/x-python",
   "name": "python",
   "nbconvert_exporter": "python",
   "pygments_lexer": "ipython2",
   "version": "2.7.6"
  }
 },
 "nbformat": 4,
 "nbformat_minor": 5
}
