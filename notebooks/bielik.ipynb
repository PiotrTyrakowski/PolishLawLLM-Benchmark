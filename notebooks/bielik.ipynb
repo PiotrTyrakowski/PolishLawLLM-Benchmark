{
 "cells": [
  {
   "metadata": {},
   "cell_type": "markdown",
   "source": "[![Open In Colab](https://colab.research.google.com/assets/colab-badge.svg)](https://colab.research.google.com/github/PiotrTyrakowski/PolishLawLLM-Benchmark/blob/KwiatkowskiML/bielik-notebook/notebooks/bielik.ipynb)",
   "id": "714b79ce940b4b89"
  },
  {
   "metadata": {},
   "cell_type": "code",
   "outputs": [],
   "execution_count": null,
   "source": "rm -fr PolishLawLLM-Benchmark/",
   "id": "8cb477b172efca9b"
  },
  {
   "metadata": {},
   "cell_type": "code",
   "outputs": [],
   "execution_count": null,
   "source": "!git clone -b KwiatkowskiML/bielik-notebook https://github.com/PiotrTyrakowski/PolishLawLLM-Benchmark.git",
   "id": "39ac606916c263f7"
  },
  {
   "metadata": {},
   "cell_type": "code",
   "outputs": [],
   "execution_count": null,
   "source": [
    "%cd PolishLawLLM-Benchmark/\n",
    "!pip install -e ."
   ],
   "id": "fc6f16318e29903d"
  },
  {
   "metadata": {},
   "cell_type": "code",
   "outputs": [],
   "execution_count": null,
   "source": [
    "from google.colab import userdata\n",
    "from huggingface_hub import login\n",
    "\n",
    "login(token=userdata.get('HF_TOKEN'))"
   ],
   "id": "5a2ff80e1cb6b1f5"
  },
  {
   "metadata": {},
   "cell_type": "code",
   "outputs": [],
   "execution_count": null,
   "source": [
    "from benchmark_framework.models.bielik import BielikModel\n",
    "\n",
    "bielik = BielikModel(\"speakleash/Bielik-11B-v2.2-Instruct\")"
   ],
   "id": "3729aa9b46e36b43"
  },
  {
   "metadata": {},
   "cell_type": "code",
   "outputs": [],
   "execution_count": null,
   "source": [
    "prompt = \"Kto w Polsce jest głównym organem wykonawczym rządu? Odpowiedzi: A) Prezydent RP, B) Sejm, C) Rada Ministrow, D) Trybunal konstytucyjny\"\n",
    "\n",
    "response = bielik.generate_response(prompt)\n",
    "print(response)"
   ],
   "id": "d4d58b9b2391b44e"
  }
 ],
 "metadata": {
  "kernelspec": {
   "display_name": "Python 3",
   "language": "python",
   "name": "python3"
  },
  "language_info": {
   "codemirror_mode": {
    "name": "ipython",
    "version": 2
   },
   "file_extension": ".py",
   "mimetype": "text/x-python",
   "name": "python",
   "nbconvert_exporter": "python",
   "pygments_lexer": "ipython2",
   "version": "2.7.6"
  }
 },
 "nbformat": 4,
 "nbformat_minor": 5
}
